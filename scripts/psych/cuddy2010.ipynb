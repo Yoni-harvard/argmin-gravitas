{
 "cells": [
  {
   "cell_type": "markdown",
   "metadata": {},
   "source": [
    "## Reanalysis of Cuddy, Carney, Yap (2010)\n",
    "\n",
    "[Data here](https://dataverse.harvard.edu/file.xhtml?persistentId=doi:10.7910/DVN/FMEGS6/U2QT5N&version=3.0#), not wgettable."
   ]
  },
  {
   "cell_type": "code",
   "execution_count": 1,
   "metadata": {},
   "outputs": [],
   "source": [
    "import pandas as pd\n",
    "import numpy as np"
   ]
  },
  {
   "cell_type": "code",
   "execution_count": 2,
   "metadata": {},
   "outputs": [
    {
     "data": {
      "text/plain": [
       "Index(['id', 'inelig', 'ccydrop', 'cortm1v2', 'cortm2v2', 'cdiffv2',\n",
       "       'testm1v2', 'testm2v2', 'tdiffv2', 'testoutv1', 'cortoutv1', 'anyoutv1',\n",
       "       'testoutv2', 'cortoutv2', 'anyoutv2', 'pose1rate', 'pose2rate',\n",
       "       'poseratem', 'saldiff', 'sal2manip', 'hptreat', 'female', 'age',\n",
       "       'cort1a1', 'cort1a2', 'cort2a1', 'cort2a2', 'cortm1', 'cortm2', 'cdiff',\n",
       "       'test1a1', 'test1a2', 'test2a1', 'test2a2', 'testm1', 'testm2', 'tdiff',\n",
       "       'feelpower', 'incharge', 'powm', 'diceroll'],\n",
       "      dtype='object')"
      ]
     },
     "execution_count": 2,
     "metadata": {},
     "output_type": "execute_result"
    }
   ],
   "source": [
    "df = pd.read_csv(\"ccy-clean-data.csv\")\n",
    "# Drop actual outliers\n",
    "df = df[df[\"inelig\"] == \"Analytic sample (keep)\"]\n",
    "\n",
    "expansiveGroup = df[df.hptreat == \"High\"]\n",
    "contractiveGroup = df[df.hptreat == \"Low\"]\n",
    "\n",
    "df.columns"
   ]
  },
  {
   "cell_type": "code",
   "execution_count": 3,
   "metadata": {},
   "outputs": [],
   "source": [
    "def get_mean_and_sds(data, col) :\n",
    "    stats = data[[col]].describe()\n",
    "    \n",
    "    return stats.loc[\"mean\"][0], \\\n",
    "            stats.loc[\"std\"][0]\n",
    "\n",
    "\n",
    "expCortisolDiffMean, expCortisolDiffSd = get_mean_and_sds(expansiveGroup, \"cdiffv2\")\n",
    "expTestosteroneDiffMean, expTestosteroneDiffSd = get_mean_and_sds(expansiveGroup, \"tdiffv2\")\n",
    "expRiskProportion = expansiveGroup[expansiveGroup.diceroll == \"Yes\"].shape[0] / expansiveGroup.shape[0]\n",
    "\n",
    "conCortisolDiffMean, conCortisolDiffSd = get_mean_and_sds(contractiveGroup, \"cdiffv2\")\n",
    "conTestosteroneDiffMean, conTestosteroneDiffSd = get_mean_and_sds(contractiveGroup, \"tdiffv2\")\n",
    "conRiskProportion = contractiveGroup[contractiveGroup.diceroll == \"Yes\"].shape[0] / contractiveGroup.shape[0]"
   ]
  },
  {
   "cell_type": "code",
   "execution_count": 4,
   "metadata": {},
   "outputs": [],
   "source": [
    "def cohens_d(experimentalMean, controlMean, \\\n",
    "            experimentalSd, controlSd, \\\n",
    "            experimentalN, controlN, \\\n",
    "            correctForBias=True) :\n",
    "    sd = pooled_sd(experimentalSd, controlSd)\n",
    "    d = (experimentalMean - controlMean) / sd\n",
    "    \n",
    "    if correctForBias :\n",
    "        N = experimentalN + controlN\n",
    "        correction = ( (N - 3)/(N - 2.25) ) \\\n",
    "                        * np.sqrt( (N-2)/N )\n",
    "        d = d * correction\n",
    "    \n",
    "    return d\n",
    "\n",
    "\n",
    "def pooled_sd(sd1, sd2) :\n",
    "    sumSquaredSigma = sd1**2 + sd2**2\n",
    "    \n",
    "    return np.sqrt(sumSquaredSigma/2)\n",
    "\n",
    "\n",
    "# for proportions\n",
    "def phi(p) :\n",
    "    return 2 * np.arcsin(np.sqrt(p))\n",
    "\n",
    "\n",
    "def cohens_h(p1, p2) :\n",
    "    return phi(p1) - phi(p2)"
   ]
  },
  {
   "cell_type": "code",
   "execution_count": 5,
   "metadata": {},
   "outputs": [
    {
     "data": {
      "text/plain": [
       "-0.30388323292703984"
      ]
     },
     "execution_count": 5,
     "metadata": {},
     "output_type": "execute_result"
    }
   ],
   "source": [
    "cortisolD = cohens_d(expCortisolDiffMean, conCortisolDiffMean,\n",
    "                    expCortisolDiffSd, conCortisolDiffSd, \n",
    "                    expansiveGroup.shape[0], contractiveGroup.shape[0], True)\n",
    "cortisolD"
   ]
  },
  {
   "cell_type": "code",
   "execution_count": 6,
   "metadata": {},
   "outputs": [
    {
     "data": {
      "text/plain": [
       "0.35433781784037266"
      ]
     },
     "execution_count": 6,
     "metadata": {},
     "output_type": "execute_result"
    }
   ],
   "source": [
    "testosteroneD = cohens_d(expTestosteroneDiffMean, conTestosteroneDiffMean,\n",
    "                    expTestosteroneDiffSd, conTestosteroneDiffSd, \n",
    "                    expansiveGroup.shape[0], contractiveGroup.shape[0], True)\n",
    "testosteroneD"
   ]
  },
  {
   "cell_type": "code",
   "execution_count": 7,
   "metadata": {},
   "outputs": [
    {
     "data": {
      "text/plain": [
       "0.6129820213361947"
      ]
     },
     "execution_count": 7,
     "metadata": {},
     "output_type": "execute_result"
    }
   ],
   "source": [
    "cohens_h(expRiskProportion, conRiskProportion)"
   ]
  },
  {
   "cell_type": "code",
   "execution_count": null,
   "metadata": {},
   "outputs": [],
   "source": []
  }
 ],
 "metadata": {
  "kernelspec": {
   "display_name": "Python 3",
   "language": "python",
   "name": "python3"
  },
  "language_info": {
   "codemirror_mode": {
    "name": "ipython",
    "version": 3
   },
   "file_extension": ".py",
   "mimetype": "text/x-python",
   "name": "python",
   "nbconvert_exporter": "python",
   "pygments_lexer": "ipython3",
   "version": "3.6.9"
  }
 },
 "nbformat": 4,
 "nbformat_minor": 2
}
