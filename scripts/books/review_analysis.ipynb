{
 "cells": [
  {
   "cell_type": "code",
   "execution_count": 1,
   "metadata": {},
   "outputs": [],
   "source": [
    "import pandas as pd"
   ]
  },
  {
   "cell_type": "code",
   "execution_count": 60,
   "metadata": {},
   "outputs": [],
   "source": [
    "df = pd.read_csv(\"reviews_march_2020.csv\")\n",
    "df[\"Original Publication Year\"] = df[\"Original Publication Year\"] \\\n",
    "                                    .astype('Int32').astype(\"str\")"
   ]
  },
  {
   "cell_type": "code",
   "execution_count": 42,
   "metadata": {},
   "outputs": [],
   "source": [
    "df[\"size of disagreement\"] = (df[\"My Rating\"] - df[\"Average Rating\"]).abs()\n",
    "disagree = df\n",
    "disagree[[\"Title\", \"size of disagreement\", \"My Rating\", \"Average Rating\"]] \\\n",
    "    .sort_values(by='size of disagreement', ascending=False) \\\n",
    "    .to_html(\"sort_by_disagreement_apr_20.html\", index=False)"
   ]
  },
  {
   "cell_type": "code",
   "execution_count": 62,
   "metadata": {},
   "outputs": [
    {
     "name": "stderr",
     "output_type": "stream",
     "text": [
      "/home/gleech/anaconda3/lib/python3.6/site-packages/ipykernel_launcher.py:4: SettingWithCopyWarning: \n",
      "A value is trying to be set on a copy of a slice from a DataFrame.\n",
      "Try using .loc[row_indexer,col_indexer] = value instead\n",
      "\n",
      "See the caveats in the documentation: http://pandas.pydata.org/pandas-docs/stable/user_guide/indexing.html#returning-a-view-versus-a-copy\n",
      "  after removing the cwd from sys.path.\n"
     ]
    }
   ],
   "source": [
    "best = df[df[\"My Rating\"] == 5]\n",
    "best[\"Title\"] = \"<i>\" + best[\"Title\"] + \"</i>\" + \" (\" + \\\n",
    "                        best[\"Original Publication Year\"] + \")\" \\\n",
    "                        + \" by \" + df[\"Author\"]\n",
    "best[[\"Title\"]] \\\n",
    "    .to_html(\"best_books_apr_20.html\", index=False)\n",
    "\n"
   ]
  },
  {
   "cell_type": "code",
   "execution_count": 39,
   "metadata": {},
   "outputs": [
    {
     "name": "stderr",
     "output_type": "stream",
     "text": [
      "/home/gleech/anaconda3/lib/python3.6/site-packages/ipykernel_launcher.py:4: SettingWithCopyWarning: \n",
      "A value is trying to be set on a copy of a slice from a DataFrame.\n",
      "Try using .loc[row_indexer,col_indexer] = value instead\n",
      "\n",
      "See the caveats in the documentation: http://pandas.pydata.org/pandas-docs/stable/user_guide/indexing.html#returning-a-view-versus-a-copy\n",
      "  after removing the cwd from sys.path.\n",
      "/home/gleech/anaconda3/lib/python3.6/site-packages/ipykernel_launcher.py:7: SettingWithCopyWarning: \n",
      "A value is trying to be set on a copy of a slice from a DataFrame.\n",
      "Try using .loc[row_indexer,col_indexer] = value instead\n",
      "\n",
      "See the caveats in the documentation: http://pandas.pydata.org/pandas-docs/stable/user_guide/indexing.html#returning-a-view-versus-a-copy\n",
      "  import sys\n"
     ]
    }
   ],
   "source": [
    "for_reviews = df[[\"Title\", \"Author\", \"My Rating\", \"Original Publication Year\", \"Date Read\", \"Date Added\", \"My Review\"]]\n",
    "for_reviews[\"Date Read\"].combine_first(for_reviews[\"Date Added\"])\n",
    "for_reviews[\"Title\"] = \"<i>\" + for_reviews[\"Title\"] + \"</i>\" + \" (\" + \\\n",
    "                        for_reviews[\"Original Publication Year\"] + \")\" \\\n",
    "                        + \" by \" + for_reviews[\"Author\"]\n",
    "\n",
    "for_reviews[[\"Title\", \"Date Read\", \"My Rating\", \"My Review\"]] \\\n",
    "   .sort_values(by=[\"Date Read\", \"My Rating\"], ascending=False) \\\n",
    "   .to_html('reviews_apr_20.html', index=False)"
   ]
  }
 ],
 "metadata": {
  "kernelspec": {
   "display_name": "Python 3",
   "language": "python",
   "name": "python3"
  },
  "language_info": {
   "codemirror_mode": {
    "name": "ipython",
    "version": 3
   },
   "file_extension": ".py",
   "mimetype": "text/x-python",
   "name": "python",
   "nbconvert_exporter": "python",
   "pygments_lexer": "ipython3",
   "version": "3.6.9"
  }
 },
 "nbformat": 4,
 "nbformat_minor": 2
}
